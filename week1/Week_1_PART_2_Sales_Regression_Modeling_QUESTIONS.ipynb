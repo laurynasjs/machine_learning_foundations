{
  "nbformat": 4,
  "nbformat_minor": 0,
  "metadata": {
    "colab": {
      "provenance": [],
      "collapsed_sections": [],
      "toc_visible": true,
      "include_colab_link": true
    },
    "kernelspec": {
      "display_name": "Python 3",
      "name": "python3"
    },
    "language_info": {
      "name": "python"
    }
  },
  "cells": [
    {
      "cell_type": "markdown",
      "metadata": {
        "id": "view-in-github",
        "colab_type": "text"
      },
      "source": [
        "<a href=\"https://colab.research.google.com/github/laurynasjs/machine_learning_foundations/blob/main/Week_1_PART_2_Sales_Regression_Modeling_QUESTIONS.ipynb\" target=\"_parent\"><img src=\"https://colab.research.google.com/assets/colab-badge.svg\" alt=\"Open In Colab\"/></a>"
      ]
    },
    {
      "cell_type": "markdown",
      "metadata": {
        "id": "bFuV20LKc0h3"
      },
      "source": [
        "> DUPLICATE THIS COLAB TO START WORKING ON IT. Using File > Save a copy to drive.\n",
        "\n",
        "# Week 1: Introduction to Regression\n",
        "\n",
        "### Applying supervised machine learning in a practical setting\n",
        "In this project, we will build supervised learning models to help make decisions in a business setting. We will focus on machine learning algorithms and development practices, so in this first project our dataset will be more of a \"black box.\" \n",
        "\n",
        "\n",
        "Our project will walk through problem formulation, developing models, and evaluating model performance in the context of a business goal. Along the way, we will introduce the basics of formalizing supervised learning as a task, regression loss functions, and simple models for regression. You will build and test models using `scikit-learn` and supporting tools.\n",
        "\n",
        "### Instructions\n",
        "\n",
        "1. Before working on this task, you should complete the 1-D Regression notebook to get familiar with some basic concepts.\n",
        "2. We provide starter code and data to give your work a common starting point and scaffolding. You must keep function signatures unchanged to support any later usage and to ensure correct grading of your project.\n",
        "3. Ensure you read through the document and starting code before beginning your work. Understand the overall structure and goals of the project to make your implementation efficient. \n"
      ]
    },
    {
      "cell_type": "markdown",
      "metadata": {
        "id": "2TWogdWh1MWp"
      },
      "source": [
        "# Dependencies"
      ]
    },
    {
      "cell_type": "markdown",
      "metadata": {
        "id": "SGpYPUn2uVBK"
      },
      "source": [
        "Import all the necessary libraries we need throughout the project."
      ]
    },
    {
      "cell_type": "code",
      "metadata": {
        "id": "NSDbwEoL8-0r"
      },
      "source": [
        "import pandas as pd\n",
        "import numpy as np\n",
        "from typing import Tuple\n",
        "from sklearn.model_selection import train_test_split\n",
        "from sklearn import linear_model, svm\n",
        "from sklearn.tree import DecisionTreeRegressor\n",
        "from sklearn.neighbors import KNeighborsRegressor\n",
        "from sklearn.preprocessing import PolynomialFeatures\n",
        "from sklearn.metrics import mean_squared_error, r2_score, mean_absolute_error, mean_absolute_percentage_error\n",
        "from numpy.core.numeric import Inf\n",
        "import matplotlib.pyplot as plt\n",
        "plt.style.use('ggplot')\n",
        "plt.rcParams['figure.figsize'] = [10, 5]"
      ],
      "execution_count": 1,
      "outputs": []
    },
    {
      "cell_type": "markdown",
      "metadata": {
        "id": "riBtB6GDur-W"
      },
      "source": [
        "Set the random seed for NumPy so that we produce consistent results that can be easily discussed."
      ]
    },
    {
      "cell_type": "code",
      "metadata": {
        "id": "N7pOF_7XXQ6M"
      },
      "source": [
        "# Fix the random seed so that we get consistent results\n",
        "np.random.seed(0)"
      ],
      "execution_count": 2,
      "outputs": []
    },
    {
      "cell_type": "markdown",
      "metadata": {
        "id": "IKLaamGv74gO"
      },
      "source": [
        "# Regression modeling applied: Per-customer revenue prediction"
      ]
    },
    {
      "cell_type": "markdown",
      "metadata": {
        "id": "n6_YhkBSe9Gj"
      },
      "source": [
        "**Scenario**: You've just been hired as a machine learning engineer at Snailsforce, the leader in direct mail marketing software. Your company's customers are businesses with a large range of yearly _customer spend_ which is driven by usage of the software. The revenue generated from each customer is closely related to usage and spend, so we will predict per-customer revenue as $y$.\n",
        "\n",
        "Our high level goal is to increase overall revenue, and identify customers who might move up to our top tier services. The team has asked you to build a regression model to predict per-customer revenue. We believe that a model can identify statistical patterns in our historical data and these revenue estimates will provide actionable information for where to focus our customer support and sales efforts. \n",
        "\n",
        "You've been provided a dataset of historical account data including attributes of the customer, and their usage of the product. The goal is to use this historical data to estimate the total spend of a client for their next license year. \n",
        "\n",
        "Formalizing this task a bit, we will use customer usage attributes $x$ to predict _spend_, a normalized dollar amount for revenue, $y$. \n",
        "\n",
        "There is inherent randomness and unknown factors in the way we've framed this prediction task -- any range of unknown events could impact customers' usage. Thus, we will set realistic expectations for how to use this model. So long as the model can accurately predict future spend.\n",
        "\n",
        "NOTE: We provide dataset values but give no information about the meaning of each customer attribute. In this project we will focus on ML techniques rather than using our intuitions about a task/dataset. In later projects we will use both, and work on challenging tasks where you can also inject domain knowledge to improve performance. "
      ]
    },
    {
      "cell_type": "markdown",
      "metadata": {
        "id": "DX3VPazF8AGN"
      },
      "source": [
        "## Data loading and basic checks"
      ]
    },
    {
      "cell_type": "markdown",
      "source": [
        "The dataset is stored on GDrive. This code downloads the dataset to your colab instance, then loads several matrices in a .npz file"
      ],
      "metadata": {
        "id": "5A7ren4ZnHV-"
      }
    },
    {
      "cell_type": "code",
      "source": [
        "# download dataset from public GDrive\n",
        "!gdown --id 1o_duTLOfVaDHBWgMcq-ziywUJKWd-2WL"
      ],
      "metadata": {
        "id": "W9huLARxwbxc",
        "colab": {
          "base_uri": "https://localhost:8080/"
        },
        "outputId": "58c80517-caf5-4fe8-bfd3-5a1c56ffb300"
      },
      "execution_count": 3,
      "outputs": [
        {
          "output_type": "stream",
          "name": "stdout",
          "text": [
            "/usr/local/lib/python3.7/dist-packages/gdown/cli.py:131: FutureWarning: Option `--id` was deprecated in version 4.3.1 and will be removed in 5.0. You don't need to pass it anymore to use a file ID.\n",
            "  category=FutureWarning,\n",
            "Downloading...\n",
            "From: https://drive.google.com/uc?id=1o_duTLOfVaDHBWgMcq-ziywUJKWd-2WL\n",
            "To: /content/proj_1_sales_dataset.npz\n",
            "100% 135k/135k [00:00<00:00, 74.7MB/s]\n"
          ]
        }
      ]
    },
    {
      "cell_type": "code",
      "source": [
        "with np.load('proj_1_sales_dataset.npz') as npdata:\n",
        "  X_train = npdata['X_train']\n",
        "  y_train = npdata['y_train']\n",
        "  X_dev = npdata['X_dev']\n",
        "  y_dev = npdata['y_dev']"
      ],
      "metadata": {
        "id": "rW8KeVDz5-74"
      },
      "execution_count": 4,
      "outputs": []
    },
    {
      "cell_type": "code",
      "source": [
        "print(npdata.files)"
      ],
      "metadata": {
        "id": "AbUGe60v6kvO",
        "colab": {
          "base_uri": "https://localhost:8080/"
        },
        "outputId": "a8b60220-08e0-46b7-d80c-aed8f8b17e47"
      },
      "execution_count": 5,
      "outputs": [
        {
          "output_type": "stream",
          "name": "stdout",
          "text": [
            "['X_train', 'X_dev', 'y_train', 'y_dev']\n"
          ]
        }
      ]
    },
    {
      "cell_type": "markdown",
      "metadata": {
        "id": "xvb7kppv-2bA"
      },
      "source": [
        "### Basic dataset information\n",
        "\n",
        "Let's quickly check some statistics and basic facts about the dataset which are important for supervised learning. First, let's check the examples and features in our dataset. When working with data for ML tasks, we typically desire each variable to be 0 mean and standard deviation 1. For this project, we have already prepared the dataset to approximately match these values."
      ]
    },
    {
      "cell_type": "code",
      "metadata": {
        "id": "F_tSOcTRBN0i",
        "colab": {
          "base_uri": "https://localhost:8080/",
          "height": 300
        },
        "outputId": "c31ed6a2-27dc-4e81-9bd7-f574266592c0"
      },
      "source": [
        "# Check range, min/max, mean, std, etc. for all input feature columns\n",
        "pd.DataFrame(data=X_train).describe()"
      ],
      "execution_count": 6,
      "outputs": [
        {
          "output_type": "execute_result",
          "data": {
            "text/plain": [
              "                0            1            2            3            4   \\\n",
              "count  1000.000000  1000.000000  1000.000000  1000.000000  1000.000000   \n",
              "mean     -0.033553     0.037349    -0.071254     0.016236    -0.060130   \n",
              "std       0.954392     1.030878     0.998940     1.030643     0.992510   \n",
              "min      -0.733186    -0.841822    -1.603473    -0.545265    -1.491855   \n",
              "25%      -0.400898    -0.483615    -0.908631    -0.271902    -0.928456   \n",
              "50%      -0.349878    -0.483615    -0.397200    -0.256833    -0.252491   \n",
              "75%      -0.143746     0.318672     1.028326    -0.213755     0.568941   \n",
              "max       9.323170     3.728990     2.496404     4.062429     2.798285   \n",
              "\n",
              "                5            6            7            8            9   \\\n",
              "count  1000.000000  1000.000000  1000.000000  1000.000000  1000.000000   \n",
              "mean      0.093037    -0.067582     0.068104    -0.055085    -0.053653   \n",
              "std       0.995166     1.012888     1.022526     0.969820     0.985496   \n",
              "min      -3.817250    -2.369042    -1.353140    -1.167139    -1.568349   \n",
              "25%      -0.481834    -0.962185    -0.781176    -0.637914    -0.773947   \n",
              "50%      -0.020076     0.257688    -0.208498    -0.511142    -0.465100   \n",
              "75%       0.593891     0.845540     0.778044    -0.148702     0.223805   \n",
              "max       3.467186     1.290705     3.531645     1.916498     1.965037   \n",
              "\n",
              "                10           11           12  \n",
              "count  1000.000000  1000.000000  1000.000000  \n",
              "mean     -0.061481     0.017692    -0.071632  \n",
              "std       1.013739     0.980342     0.988070  \n",
              "min      -2.771561    -3.943066    -1.620686  \n",
              "25%      -0.762626     0.192617    -0.864435  \n",
              "50%       0.114232     0.366588    -0.289395  \n",
              "75%       0.784476     0.448077     0.507380  \n",
              "max       1.689603     0.672469     3.482019  "
            ],
            "text/html": [
              "\n",
              "  <div id=\"df-27935126-f2a6-4133-80ff-49e09ae7ea84\">\n",
              "    <div class=\"colab-df-container\">\n",
              "      <div>\n",
              "<style scoped>\n",
              "    .dataframe tbody tr th:only-of-type {\n",
              "        vertical-align: middle;\n",
              "    }\n",
              "\n",
              "    .dataframe tbody tr th {\n",
              "        vertical-align: top;\n",
              "    }\n",
              "\n",
              "    .dataframe thead th {\n",
              "        text-align: right;\n",
              "    }\n",
              "</style>\n",
              "<table border=\"1\" class=\"dataframe\">\n",
              "  <thead>\n",
              "    <tr style=\"text-align: right;\">\n",
              "      <th></th>\n",
              "      <th>0</th>\n",
              "      <th>1</th>\n",
              "      <th>2</th>\n",
              "      <th>3</th>\n",
              "      <th>4</th>\n",
              "      <th>5</th>\n",
              "      <th>6</th>\n",
              "      <th>7</th>\n",
              "      <th>8</th>\n",
              "      <th>9</th>\n",
              "      <th>10</th>\n",
              "      <th>11</th>\n",
              "      <th>12</th>\n",
              "    </tr>\n",
              "  </thead>\n",
              "  <tbody>\n",
              "    <tr>\n",
              "      <th>count</th>\n",
              "      <td>1000.000000</td>\n",
              "      <td>1000.000000</td>\n",
              "      <td>1000.000000</td>\n",
              "      <td>1000.000000</td>\n",
              "      <td>1000.000000</td>\n",
              "      <td>1000.000000</td>\n",
              "      <td>1000.000000</td>\n",
              "      <td>1000.000000</td>\n",
              "      <td>1000.000000</td>\n",
              "      <td>1000.000000</td>\n",
              "      <td>1000.000000</td>\n",
              "      <td>1000.000000</td>\n",
              "      <td>1000.000000</td>\n",
              "    </tr>\n",
              "    <tr>\n",
              "      <th>mean</th>\n",
              "      <td>-0.033553</td>\n",
              "      <td>0.037349</td>\n",
              "      <td>-0.071254</td>\n",
              "      <td>0.016236</td>\n",
              "      <td>-0.060130</td>\n",
              "      <td>0.093037</td>\n",
              "      <td>-0.067582</td>\n",
              "      <td>0.068104</td>\n",
              "      <td>-0.055085</td>\n",
              "      <td>-0.053653</td>\n",
              "      <td>-0.061481</td>\n",
              "      <td>0.017692</td>\n",
              "      <td>-0.071632</td>\n",
              "    </tr>\n",
              "    <tr>\n",
              "      <th>std</th>\n",
              "      <td>0.954392</td>\n",
              "      <td>1.030878</td>\n",
              "      <td>0.998940</td>\n",
              "      <td>1.030643</td>\n",
              "      <td>0.992510</td>\n",
              "      <td>0.995166</td>\n",
              "      <td>1.012888</td>\n",
              "      <td>1.022526</td>\n",
              "      <td>0.969820</td>\n",
              "      <td>0.985496</td>\n",
              "      <td>1.013739</td>\n",
              "      <td>0.980342</td>\n",
              "      <td>0.988070</td>\n",
              "    </tr>\n",
              "    <tr>\n",
              "      <th>min</th>\n",
              "      <td>-0.733186</td>\n",
              "      <td>-0.841822</td>\n",
              "      <td>-1.603473</td>\n",
              "      <td>-0.545265</td>\n",
              "      <td>-1.491855</td>\n",
              "      <td>-3.817250</td>\n",
              "      <td>-2.369042</td>\n",
              "      <td>-1.353140</td>\n",
              "      <td>-1.167139</td>\n",
              "      <td>-1.568349</td>\n",
              "      <td>-2.771561</td>\n",
              "      <td>-3.943066</td>\n",
              "      <td>-1.620686</td>\n",
              "    </tr>\n",
              "    <tr>\n",
              "      <th>25%</th>\n",
              "      <td>-0.400898</td>\n",
              "      <td>-0.483615</td>\n",
              "      <td>-0.908631</td>\n",
              "      <td>-0.271902</td>\n",
              "      <td>-0.928456</td>\n",
              "      <td>-0.481834</td>\n",
              "      <td>-0.962185</td>\n",
              "      <td>-0.781176</td>\n",
              "      <td>-0.637914</td>\n",
              "      <td>-0.773947</td>\n",
              "      <td>-0.762626</td>\n",
              "      <td>0.192617</td>\n",
              "      <td>-0.864435</td>\n",
              "    </tr>\n",
              "    <tr>\n",
              "      <th>50%</th>\n",
              "      <td>-0.349878</td>\n",
              "      <td>-0.483615</td>\n",
              "      <td>-0.397200</td>\n",
              "      <td>-0.256833</td>\n",
              "      <td>-0.252491</td>\n",
              "      <td>-0.020076</td>\n",
              "      <td>0.257688</td>\n",
              "      <td>-0.208498</td>\n",
              "      <td>-0.511142</td>\n",
              "      <td>-0.465100</td>\n",
              "      <td>0.114232</td>\n",
              "      <td>0.366588</td>\n",
              "      <td>-0.289395</td>\n",
              "    </tr>\n",
              "    <tr>\n",
              "      <th>75%</th>\n",
              "      <td>-0.143746</td>\n",
              "      <td>0.318672</td>\n",
              "      <td>1.028326</td>\n",
              "      <td>-0.213755</td>\n",
              "      <td>0.568941</td>\n",
              "      <td>0.593891</td>\n",
              "      <td>0.845540</td>\n",
              "      <td>0.778044</td>\n",
              "      <td>-0.148702</td>\n",
              "      <td>0.223805</td>\n",
              "      <td>0.784476</td>\n",
              "      <td>0.448077</td>\n",
              "      <td>0.507380</td>\n",
              "    </tr>\n",
              "    <tr>\n",
              "      <th>max</th>\n",
              "      <td>9.323170</td>\n",
              "      <td>3.728990</td>\n",
              "      <td>2.496404</td>\n",
              "      <td>4.062429</td>\n",
              "      <td>2.798285</td>\n",
              "      <td>3.467186</td>\n",
              "      <td>1.290705</td>\n",
              "      <td>3.531645</td>\n",
              "      <td>1.916498</td>\n",
              "      <td>1.965037</td>\n",
              "      <td>1.689603</td>\n",
              "      <td>0.672469</td>\n",
              "      <td>3.482019</td>\n",
              "    </tr>\n",
              "  </tbody>\n",
              "</table>\n",
              "</div>\n",
              "      <button class=\"colab-df-convert\" onclick=\"convertToInteractive('df-27935126-f2a6-4133-80ff-49e09ae7ea84')\"\n",
              "              title=\"Convert this dataframe to an interactive table.\"\n",
              "              style=\"display:none;\">\n",
              "        \n",
              "  <svg xmlns=\"http://www.w3.org/2000/svg\" height=\"24px\"viewBox=\"0 0 24 24\"\n",
              "       width=\"24px\">\n",
              "    <path d=\"M0 0h24v24H0V0z\" fill=\"none\"/>\n",
              "    <path d=\"M18.56 5.44l.94 2.06.94-2.06 2.06-.94-2.06-.94-.94-2.06-.94 2.06-2.06.94zm-11 1L8.5 8.5l.94-2.06 2.06-.94-2.06-.94L8.5 2.5l-.94 2.06-2.06.94zm10 10l.94 2.06.94-2.06 2.06-.94-2.06-.94-.94-2.06-.94 2.06-2.06.94z\"/><path d=\"M17.41 7.96l-1.37-1.37c-.4-.4-.92-.59-1.43-.59-.52 0-1.04.2-1.43.59L10.3 9.45l-7.72 7.72c-.78.78-.78 2.05 0 2.83L4 21.41c.39.39.9.59 1.41.59.51 0 1.02-.2 1.41-.59l7.78-7.78 2.81-2.81c.8-.78.8-2.07 0-2.86zM5.41 20L4 18.59l7.72-7.72 1.47 1.35L5.41 20z\"/>\n",
              "  </svg>\n",
              "      </button>\n",
              "      \n",
              "  <style>\n",
              "    .colab-df-container {\n",
              "      display:flex;\n",
              "      flex-wrap:wrap;\n",
              "      gap: 12px;\n",
              "    }\n",
              "\n",
              "    .colab-df-convert {\n",
              "      background-color: #E8F0FE;\n",
              "      border: none;\n",
              "      border-radius: 50%;\n",
              "      cursor: pointer;\n",
              "      display: none;\n",
              "      fill: #1967D2;\n",
              "      height: 32px;\n",
              "      padding: 0 0 0 0;\n",
              "      width: 32px;\n",
              "    }\n",
              "\n",
              "    .colab-df-convert:hover {\n",
              "      background-color: #E2EBFA;\n",
              "      box-shadow: 0px 1px 2px rgba(60, 64, 67, 0.3), 0px 1px 3px 1px rgba(60, 64, 67, 0.15);\n",
              "      fill: #174EA6;\n",
              "    }\n",
              "\n",
              "    [theme=dark] .colab-df-convert {\n",
              "      background-color: #3B4455;\n",
              "      fill: #D2E3FC;\n",
              "    }\n",
              "\n",
              "    [theme=dark] .colab-df-convert:hover {\n",
              "      background-color: #434B5C;\n",
              "      box-shadow: 0px 1px 3px 1px rgba(0, 0, 0, 0.15);\n",
              "      filter: drop-shadow(0px 1px 2px rgba(0, 0, 0, 0.3));\n",
              "      fill: #FFFFFF;\n",
              "    }\n",
              "  </style>\n",
              "\n",
              "      <script>\n",
              "        const buttonEl =\n",
              "          document.querySelector('#df-27935126-f2a6-4133-80ff-49e09ae7ea84 button.colab-df-convert');\n",
              "        buttonEl.style.display =\n",
              "          google.colab.kernel.accessAllowed ? 'block' : 'none';\n",
              "\n",
              "        async function convertToInteractive(key) {\n",
              "          const element = document.querySelector('#df-27935126-f2a6-4133-80ff-49e09ae7ea84');\n",
              "          const dataTable =\n",
              "            await google.colab.kernel.invokeFunction('convertToInteractive',\n",
              "                                                     [key], {});\n",
              "          if (!dataTable) return;\n",
              "\n",
              "          const docLinkHtml = 'Like what you see? Visit the ' +\n",
              "            '<a target=\"_blank\" href=https://colab.research.google.com/notebooks/data_table.ipynb>data table notebook</a>'\n",
              "            + ' to learn more about interactive tables.';\n",
              "          element.innerHTML = '';\n",
              "          dataTable['output_type'] = 'display_data';\n",
              "          await google.colab.output.renderOutput(dataTable, element);\n",
              "          const docLink = document.createElement('div');\n",
              "          docLink.innerHTML = docLinkHtml;\n",
              "          element.appendChild(docLink);\n",
              "        }\n",
              "      </script>\n",
              "    </div>\n",
              "  </div>\n",
              "  "
            ]
          },
          "metadata": {},
          "execution_count": 6
        }
      ]
    },
    {
      "cell_type": "markdown",
      "metadata": {
        "id": "llmmw4dWWY3y"
      },
      "source": [
        "### Checking our output variable"
      ]
    },
    {
      "cell_type": "markdown",
      "source": [
        "For regression, we typically map a real-valued input vector to a real-valued scalar. This means the $(x, y)$ input/label pairs are a single value for y and a feature vector for x. Many of the techniques we discuss here extend to _multi-variate_ regression where $y$ is a vector. \n",
        "\n",
        "When working with a dataset, we typically want to understand the rough *distribution* of output variable $y$. First, let's plot the values of the output variable for our data. Again, we've already standardized the revenue values to have a mean of 0. "
      ],
      "metadata": {
        "id": "e2bArgfLGvuk"
      }
    },
    {
      "cell_type": "code",
      "source": [
        "pd.DataFrame(y_train).hist(bins=50)"
      ],
      "metadata": {
        "colab": {
          "base_uri": "https://localhost:8080/",
          "height": 373
        },
        "id": "ZBB7Ij5t7AFZ",
        "outputId": "8cf256b5-55d3-4d1e-c903-33a225a5ad9a"
      },
      "execution_count": 7,
      "outputs": [
        {
          "output_type": "execute_result",
          "data": {
            "text/plain": [
              "array([[<matplotlib.axes._subplots.AxesSubplot object at 0x7fcecda42a50>]],\n",
              "      dtype=object)"
            ]
          },
          "metadata": {},
          "execution_count": 7
        },
        {
          "output_type": "display_data",
          "data": {
            "text/plain": [
              "<Figure size 720x360 with 1 Axes>"
            ],
            "image/png": "[encoded data removed]"
          },
          "metadata": {}
        }
      ]
    },
    {
      "cell_type": "code",
      "metadata": {
        "id": "b8fMYKYZYXNH",
        "colab": {
          "base_uri": "https://localhost:8080/",
          "height": 463
        },
        "outputId": "120d6b02-e869-4b22-fdc5-a7be1026808e"
      },
      "source": [
        "# scatterplot of y values with jitter\n",
        "plt.boxplot(y_train)"
      ],
      "execution_count": 8,
      "outputs": [
        {
          "output_type": "execute_result",
          "data": {
            "text/plain": [
              "{'whiskers': [<matplotlib.lines.Line2D at 0x7fcecd4442d0>,\n",
              "  <matplotlib.lines.Line2D at 0x7fcecd444810>],\n",
              " 'caps': [<matplotlib.lines.Line2D at 0x7fcecd444d50>,\n",
              "  <matplotlib.lines.Line2D at 0x7fcecd44e2d0>],\n",
              " 'boxes': [<matplotlib.lines.Line2D at 0x7fcecd43cd10>],\n",
              " 'medians': [<matplotlib.lines.Line2D at 0x7fcecd44e850>],\n",
              " 'fliers': [<matplotlib.lines.Line2D at 0x7fcecd44ed90>],\n",
              " 'means': []}"
            ]
          },
          "metadata": {},
          "execution_count": 8
        },
        {
          "output_type": "display_data",
          "data": {
            "text/plain": [
              "<Figure size 720x360 with 1 Axes>"
            ],
            "image/png": "[encoded data removed]"
          },
          "metadata": {}
        }
      ]
    },
    {
      "cell_type": "markdown",
      "metadata": {
        "id": "f-YThqSE6d-T"
      },
      "source": [
        "## Iterative model development process: Regression"
      ]
    },
    {
      "cell_type": "markdown",
      "metadata": {
        "id": "EZZGq2tt8Mtq"
      },
      "source": [
        "We have now loaded the dataset and performed some basic data checks. This data will provide the inputs for our ML experiments. Following our iterative development process, we will first establish starting characteristics for our model before trying to improve it. This approach ensures that we are clear about what we are measuring before spending time building and improving models. Here are our next steps towards building a quality model for this revenue prediction task:\n",
        "\n",
        "Some setup steps:\n",
        "1. Evaluation metric selection.\n",
        "2. Split data into training / development sets. \n",
        "3. Establish code/procedure to evaluate model predictions.\n",
        "4. Build and evaluate simple baselines. \n",
        "\n",
        "Iterative hypothesis-driven modeling improvements:\n",
        "1. Build and evaluate a first regression model on the data.\n",
        "2. Diagnose next steps for how to improve model.\n",
        "3. Propose hypothesis for how to improve model and iterate!\n",
        "\n",
        "Let's go!"
      ]
    },
    {
      "cell_type": "markdown",
      "metadata": {
        "id": "UIxkii6L8M38"
      },
      "source": [
        "### Evaluation metric selection"
      ]
    },
    {
      "cell_type": "markdown",
      "metadata": {
        "id": "AbUX1I4BggkU"
      },
      "source": [
        "Our task is regression, and we are predicting account values in dollars. When working with regression, we typically default to mean squared error (MSE) as a guiding metric because it works well with many regression models. However, it's useful to consider multiple loss functions so that we can choose an option that optimizes the problem we need to solve.\n",
        "\n",
        "Our goal is to predict customer revenue. Because MSE is sensitive to large values, MSE risks putting too much weight on outlier errors when comparing models. Let's introduce additional metrics to give a different view on performance with less sensitivity to outliers\n",
        "\n",
        "Mean absolute error (MAE) = \n",
        "$\\frac{1}{n} \\sum_{i=0}^n |y^{(i)}-\\hat{y}^{(i)}|$\n",
        "\n",
        "MAE is the average of the absolute values of errors. MAE is often the best single diagnostic for comparing regression model performance because it is easier to interpret and less sensitive to outliers compared to MSE.\n",
        "\n",
        "Mean percentage error (MPE) = \n",
        "$\\frac{1}{n} \\sum_{i=0}^n \\frac{(y^{(i)}-\\hat{y}^{(i)})}{y^{(i)}} $\n",
        "\n",
        "MPE gives us a percentage error which is not affected by larger/smaller values of $y$, only the relative correctness of the prediction $\\hat{y}$. Another useful property of MPE is that errors have a positive or negative sign depending on whether the model under-estimates $y$ (positive error) or over-estimates (negative error). This means that MPE will give us an aggregate view of whether a model tends to predict too much or too little.\n",
        "\n",
        "For now, we are assuming that predicting revenue enables us to make decisions. These simple regression metrics are closely tied to evaluating how well our regression model predicts these values. Once we have a high quality regression model we will revisit how we use the model in the context of our business needs.\n",
        "\n",
        "For quick intuition about MSE, MAE, MPE, and some additional regression metrics, see https://www.dataquest.io/blog/understanding-regression-error-metrics/\n",
        "\n"
      ]
    },
    {
      "cell_type": "markdown",
      "metadata": {
        "id": "m94HSCh_WY_6"
      },
      "source": [
        "### Split data into training / development sets"
      ]
    },
    {
      "cell_type": "markdown",
      "metadata": {
        "id": "EjSWXQ2C6WG7"
      },
      "source": [
        "Now, we reserve part of the data as a development set to keep fixed during our work. To make comparison of results easy, we have already provided a training/development split in the data you loaded.\n",
        "\n",
        "We assume that our dataset examples are _independent and identically distributed ([i.i.d.](https://en.wikipedia.org/wiki/Independent_and_identically_distributed_random_variables))_ Basically, this means we assume that each example is an independent dice roll from the same die. This assumption means we can randomly select a development set from our full data, and consider it a representative sample. \n",
        "\n",
        "Beware of the i.i.d. assumption when working in machine learning. Data distributions in the real world can _shift_ from unseen events the data does not measure (e.g. shipping problems during COVID). Distribution shift means the indentically distributed assumption breaks, and our model evaluations might not be a good proxy for real-world performance. Revenue prediction models used during COVID pandemic would have experienced such shift in the incoming data compared to historical training data, likely resulting in model inaccuracy. \n",
        "\n",
        "Depending on the domain, it might be necessary to split data by time, or by person to ensure development set instances are not overly correlated with training instances. In our revenue prediction setting, we will ultimately test our model by making predictions on future account behavior and observing the results over time."
      ]
    },
    {
      "cell_type": "markdown",
      "metadata": {
        "id": "0d2iAPS9txHB"
      },
      "source": [
        "### Establish code/procedure to evaluate model predictions\n"
      ]
    },
    {
      "cell_type": "markdown",
      "metadata": {
        "id": "IuLYmi3f8m-Z"
      },
      "source": [
        "To ensure we measure and compare models in a consistent way, we will create shared code that we use to evaluate all models. Creating and validating this code with a simple baseline before building models gives us a controlled way to test and debug our metrics code before introducing the additional uncertainty of model results."
      ]
    },
    {
      "cell_type": "markdown",
      "metadata": {
        "id": "V40ZWFkO8n_F"
      },
      "source": [
        "#### **Task: Implement an evaluation function**"
      ]
    },
    {
      "cell_type": "markdown",
      "metadata": {
        "id": "Tuq7LXknaBls"
      },
      "source": [
        "Define a function to compute and return MSE, MAE, and MPE using the provided function signature. You may use `sklearn.metrics` functions to compute error terms."
      ]
    },
    {
      "cell_type": "code",
      "source": [
        "from sklearn.metrics import mean_absolute_error, mean_squared_error, mean_absolute_percentage_error\n"
      ],
      "metadata": {
        "id": "vwHoyW9c_VUX"
      },
      "execution_count": 9,
      "outputs": []
    },
    {
      "cell_type": "code",
      "metadata": {
        "id": "DrIXf9Kf7mBT"
      },
      "source": [
        "def compute_eval(actual: np.ndarray, pred: np.ndarray ) -> Tuple[float, float, float]:\n",
        "  \"\"\"Computes evaluation metrics on given predicted/actual values\n",
        "  Args:\n",
        "    actual: 1-D array of actual values\n",
        "    pred: 1-D array of predicted values\n",
        "\n",
        "  Returns:\n",
        "    Mean squared error (float),\n",
        "    Mean absolute error (float),\n",
        "    Mean percentage error (float)\n",
        "  \n",
        "  \"\"\"\n",
        "  \n",
        "  #############################\n",
        "  #### YOUR CODE GOES HERE ####\n",
        "\n",
        "  mse = mean_squared_error(actual, pred)\n",
        "  mae = mean_absolute_error(actual, pred)\n",
        "  mpe = ((actual-pred)/actual).mean()\n",
        "  return mse, mae, mpe\n",
        "  \n",
        "  #############################   \n",
        "\n"
      ],
      "execution_count": 10,
      "outputs": []
    },
    {
      "cell_type": "markdown",
      "metadata": {
        "id": "lw9urD4CZaz1"
      },
      "source": [
        "Now let's quickly check our evaluation function using some basic inputs. Think of this as a small software _[unit test](https://en.wikipedia.org/wiki/Unit_testing)_."
      ]
    },
    {
      "cell_type": "code",
      "metadata": {
        "id": "4LaqTtsFZvYq",
        "colab": {
          "base_uri": "https://localhost:8080/"
        },
        "outputId": "4410ae5e-3db8-45e1-de0d-54757991f173"
      },
      "source": [
        "n_samples_test = 100\n",
        "print(\"Expect some error (MSE 2.25 MAE 1.5 MPE 1.0)\")\n",
        "print(\"Computed error: MSE: %.2f  MAE: %.2f  MPE: %.2f \" \n",
        "      % compute_eval(1.5 * np.ones(n_samples_test), np.zeros(n_samples_test)))\n",
        "print(\"Expect 0 error\")\n",
        "print(\"Computed error: MSE: %.2f  MAE: %.2f  MPE: %.2f \" \n",
        "      % compute_eval(np.ones(n_samples_test), np.ones(n_samples_test)))"
      ],
      "execution_count": 11,
      "outputs": [
        {
          "output_type": "stream",
          "name": "stdout",
          "text": [
            "Expect some error (MSE 2.25 MAE 1.5 MPE 1.0)\n",
            "Computed error: MSE: 2.25  MAE: 1.50  MPE: 1.00 \n",
            "Expect 0 error\n",
            "Computed error: MSE: 0.00  MAE: 0.00  MPE: 0.00 \n"
          ]
        }
      ]
    },
    {
      "cell_type": "markdown",
      "metadata": {
        "id": "Jx4_y0d70m7w"
      },
      "source": [
        "### Build and evaluate simple baselines\n"
      ]
    },
    {
      "cell_type": "markdown",
      "metadata": {
        "id": "QHaFiCoQ5va9"
      },
      "source": [
        "With our metrics function validated, let's establish some simple baselines on our actual dataset. These baselines are useful for establishing a lower bound on performance -- a model capturing useful patterns in the data should outperform predicting the average output value for all examples. If models are unable to outperform these baselines, we would expect bugs in our code or issues in the dataset preventing useful learning."
      ]
    },
    {
      "cell_type": "markdown",
      "metadata": {
        "id": "jSmUANpx54Aj"
      },
      "source": [
        "#### **Task: Predict the average value** "
      ]
    },
    {
      "cell_type": "markdown",
      "metadata": {
        "id": "DnoDO85l5y5r"
      },
      "source": [
        "Compute the mean (average) output ($y$) value on the training set. Use this value as a prediction for each test example. Report results using your evaluation function."
      ]
    },
    {
      "cell_type": "code",
      "source": [
        "['X_train', 'X_dev', 'y_train', 'y_dev']"
      ],
      "metadata": {
        "colab": {
          "base_uri": "https://localhost:8080/"
        },
        "id": "cvM8eZmrgrzm",
        "outputId": "0458a7cc-6f2f-4679-8647-bdb2ab33036f"
      },
      "execution_count": 12,
      "outputs": [
        {
          "output_type": "execute_result",
          "data": {
            "text/plain": [
              "['X_train', 'X_dev', 'y_train', 'y_dev']"
            ]
          },
          "metadata": {},
          "execution_count": 12
        }
      ]
    },
    {
      "cell_type": "code",
      "source": [
        "y_train.shape"
      ],
      "metadata": {
        "colab": {
          "base_uri": "https://localhost:8080/"
        },
        "id": "td6H6lpFg4ci",
        "outputId": "dde31968-11b2-4cc2-a0a7-3640f98eeb2e"
      },
      "execution_count": 15,
      "outputs": [
        {
          "output_type": "execute_result",
          "data": {
            "text/plain": [
              "(1000,)"
            ]
          },
          "metadata": {},
          "execution_count": 15
        }
      ]
    },
    {
      "cell_type": "code",
      "source": [
        "baseline_mean = y_train.mean()\n",
        "baseline_mean"
      ],
      "metadata": {
        "colab": {
          "base_uri": "https://localhost:8080/"
        },
        "id": "AxbjbJi5gw4y",
        "outputId": "9731beb9-3e3e-4093-89c5-95782dca2c56"
      },
      "execution_count": 14,
      "outputs": [
        {
          "output_type": "execute_result",
          "data": {
            "text/plain": [
              "0.0724480387219163"
            ]
          },
          "metadata": {},
          "execution_count": 14
        }
      ]
    },
    {
      "cell_type": "code",
      "metadata": {
        "id": "sn9KMT2wrY5a",
        "colab": {
          "base_uri": "https://localhost:8080/"
        },
        "outputId": "1b5c9e39-3925-4c8c-95ba-3c64a56574f6"
      },
      "source": [
        "#############################\n",
        "#### YOUR CODE GOES HERE ####\n",
        "baseline_mean = y_train.mean()\n",
        "mse, mae, mpe =  compute_eval(y_dev, np.repeat(baseline_mean, len(y_dev)))\n",
        "print(f'mse: {mse:.2f} mae: {mae:.2f} mpe: {mpe:.2f}')\n",
        "############################# "
      ],
      "execution_count": 27,
      "outputs": [
        {
          "output_type": "stream",
          "name": "stdout",
          "text": [
            "mse: 1.16 mae: 0.77 mpe: -1.42\n"
          ]
        }
      ]
    },
    {
      "cell_type": "markdown",
      "source": [],
      "metadata": {
        "id": "7x3v7ufzizt3"
      }
    },
    {
      "cell_type": "markdown",
      "source": [
        "## Hypothesis-driven model development"
      ],
      "metadata": {
        "id": "aezRiAGLJBvP"
      }
    },
    {
      "cell_type": "markdown",
      "source": [
        "Machine learning system development has some inherent uncertainties. To better navigate the many options, we will focus on keeping a driving _hypothesis_ to justify what actions we take to improve the ML system. Additionally, we will often need different diagnostics or debugging tricks to gain information about what to try next.\n",
        "\n",
        "As a first step, let's establish a baseline using a simple, robust technique -- linear regression!"
      ],
      "metadata": {
        "id": "PFtx68DAJFvL"
      }
    },
    {
      "cell_type": "markdown",
      "metadata": {
        "id": "rPc4kkJfvYbx"
      },
      "source": [
        "### Build and evaluate a first regression model on the data\n"
      ]
    },
    {
      "cell_type": "markdown",
      "metadata": {
        "id": "Tq7Ri2rU6Cyk"
      },
      "source": [
        "With baselines and evaluation established, it's time to begin building models. Typically we start with a simpler, easier to understand model. Based on performance of this initial model we will make decisions about whether to try more complex models on this dataset. Linear regression is a reliable first choice as it is a well-studied model, relatively easy to interpret, and has many extensions we can use to improve performance in different situations. "
      ]
    },
    {
      "cell_type": "markdown",
      "metadata": {
        "id": "3X4TUzhY1_9d"
      },
      "source": [
        "#### **Task: Build and evaluate a linear regression model.**"
      ]
    },
    {
      "cell_type": "markdown",
      "metadata": {
        "id": "xwLawtKj2FKW"
      },
      "source": [
        "Fit a `LinearRegression` model on the training set. Report evaluation results on both the training and development sets by calling your `compute_eval` function."
      ]
    },
    {
      "cell_type": "code",
      "metadata": {
        "id": "xbbMQhHGg0if",
        "colab": {
          "base_uri": "https://localhost:8080/"
        },
        "outputId": "7034d679-b214-4b42-ba49-0fed880c75db"
      },
      "source": [
        "## initialize empty model\n",
        "regr_lin = linear_model.LinearRegression()\n",
        "\n",
        "#############################\n",
        "#### YOUR CODE GOES HERE ####\n",
        "regr_lin.fit(X_train, y_train)\n",
        "\n",
        "y_train_predict = regr_lin.predict(X_train)\n",
        "y_dev_predict = regr_lin.predict(X_dev)\n",
        "\n",
        "mse_train, mae_train, mpe_train =  compute_eval(y_train, y_train_predict)\n",
        "print(\"training set evaluation:\")\n",
        "print(f'mse: {mse_train:.2f} mae: {mae_train:.2f} mpe: {mpe_train:.2f}')\n",
        "\n",
        "mse_test, mae_test, mpe_test =  compute_eval(y_dev, y_dev_predict)\n",
        "print(\"test set evaluation:\")\n",
        "print(f'mse: {mse_test:.2f} mae: {mae_test:.2f} mpe: {mpe_test:.2f}')\n",
        "############################# "
      ],
      "execution_count": 36,
      "outputs": [
        {
          "output_type": "stream",
          "name": "stdout",
          "text": [
            "training set evaluation:\n",
            "mse: 0.25 mae: 0.36 mpe: -0.39\n",
            "test set evaluation:\n",
            "mse: 0.27 mae: 0.37 mpe: 0.58\n"
          ]
        }
      ]
    },
    {
      "cell_type": "code",
      "source": [
        "regr_lin.score(X_train, y_train)"
      ],
      "metadata": {
        "colab": {
          "base_uri": "https://localhost:8080/"
        },
        "id": "1auMOhc9jSUT",
        "outputId": "c2e9b367-ca7b-45e0-810a-60aada4bf3a2"
      },
      "execution_count": 33,
      "outputs": [
        {
          "output_type": "execute_result",
          "data": {
            "text/plain": [
              "0.7653099747773017"
            ]
          },
          "metadata": {},
          "execution_count": 33
        }
      ]
    },
    {
      "cell_type": "markdown",
      "metadata": {
        "id": "9LYnvItcgyAu"
      },
      "source": [
        "### Use diagnostics to create a hypothesis for how to improve (and iterate!)"
      ]
    },
    {
      "cell_type": "markdown",
      "metadata": {
        "id": "6WXmb_Pb5Xdo"
      },
      "source": [
        "So far we've performed an initial model building process to obtain baseline results in a sensible way. This process is fairly straightforward, but after fitting an initial model, we have many possible paths for what we might try next.\n",
        "\n",
        "Let's consider some diagnostic questions to determine the most promising next action to try:\n",
        "1. Is this model \"good enough\"? Does current dev set performance meet our goal for this system?\n",
        "2. Is the model improving compared with simple baselines on both the training and dev sets?\n",
        "3. Is training set performance at/above goal performance for this system? Is training set performance saturated near zero error?\n",
        "4. How do training set and dev set results compare with each other? "
      ]
    },
    {
      "cell_type": "markdown",
      "metadata": {
        "id": "Dibqxq9t5A_n"
      },
      "source": [
        "Think about your response to each question above. Next we will use these diagnostics to decide a next action. Here are reasonable responses to the questions above:   \n",
        "1. _No. Our teams estimate a model needs dev set performance MSE < 0.2 to meaningfully guide actions._\n",
        "1. _Yes. The model clearly outperforms our simple baselines, indicating the model learned some statistical patterns on the training set which were useful in making correct predictions on the dev set_\n",
        "1. _Training set performance is far from zero error, and does model does not appear to be fitting training set perfectly._ \n",
        "1. _Training set performance very close to dev set performance, and not meeting overall performance goals._\n"
      ]
    },
    {
      "cell_type": "markdown",
      "metadata": {
        "id": "67_q4L4h7lCl"
      },
      "source": [
        "For supervised learning problems large or small, there are a few key concepts we use to interpret our diagnostics:\n",
        "\n",
        "* **Model bias** is the assumptions or representational choices in our model. A high bias model (stronger assumptions in the model) makes consistent predictions. However, high bias assumptions might cause dev set errors or miss useful patterns in the training set.\n",
        "\n",
        "* **Model variance** is the ability of the model to fit small fluctuations in training data. High variance models accurately capture patterns in the training set, but might find spurious correlations. Models can make errors on new data when predictions are influenced by noise or spurious correlations in the training set.\n",
        "\n",
        "* **Dataset irreducible error** focuses on issues in the training and test datasets which impose a limit on how accurate the predictions any model can be. Sources of this error might be noise in input/output variables, unobserved information (missing input variables), or even data shift over time.\n",
        "\n",
        "We will explore these concepts in more depth later in the course. For now, let's revisit our diagnostic question responses in the context of these concepts."
      ]
    },
    {
      "cell_type": "markdown",
      "metadata": {
        "id": "ybFQg810cF8P"
      },
      "source": [
        "**Diagnosis**\n",
        "\n",
        "Based on our question responses, we might suspect the model is _high bias_ and _low variance_. We conclude this because the model has significant training set error and training/dev errors are closely matched. We also use the term _under-fitting_ to describe a model which performs poorly on the dev set and does not fit the training data as well as we hope.\n",
        "\n",
        "Finally, we have no reason to suspect dataset irreducible error issues yet. An inability to fit the training set might also stem from dataset noise or errors, but we believe the data is sensible and well prepared, so we can focus on improving the model for now."
      ]
    },
    {
      "cell_type": "markdown",
      "metadata": {
        "id": "lx3YKQ9Pjz8d"
      },
      "source": [
        "### Propose hypothesis for how to improve performance"
      ]
    },
    {
      "cell_type": "markdown",
      "metadata": {
        "id": "7lhmxdAUh5WT"
      },
      "source": [
        "With our _high bias, low variance, under-fitting_ diagnosis, we can form a hypothesis about how to improve performance. When our model is high bias relative to the task, typically we want to find ways to build a _more expressive model_. In the case of linear regression, the linear assumption of the model might be too simple to fit the training data and capture useful patterns for this problem.\n",
        "\n",
        "We hypothesize a more expressive model will better fit the training set, and this improved performance will generalize to the dev set. So we want to try building higher variance models.\n",
        "\n",
        "Let's test this hypothesis by doing a next iteration of our modeling development process with more expressive, nonlinear models. "
      ]
    },
    {
      "cell_type": "markdown",
      "metadata": {
        "id": "xMnKHwrriszv"
      },
      "source": [
        "## Iterating on model improvements: Nonlinear models"
      ]
    },
    {
      "cell_type": "markdown",
      "metadata": {
        "id": "uV03OYtVwjtN"
      },
      "source": [
        "Let's work on the \"inner loop\" of iterative model improvement. We have clear baselines, metrics, and our goal is to find a nonlinear model which improves upon current performance. \n",
        "\n",
        "For rapid model improvement, we value the ability to try many modeling ideas quickly. Let's establish a baseline model, and then quickly try out many extensions."
      ]
    },
    {
      "cell_type": "markdown",
      "metadata": {
        "id": "SZQDOYvUw8C0"
      },
      "source": [
        "### Iterative model improvement"
      ]
    },
    {
      "cell_type": "markdown",
      "metadata": {
        "id": "iv_LuNKLi2tZ"
      },
      "source": [
        "As in our simple regression dataset experiments, we can try `KNeighborsRegressor` as a nonlinear model with more _variance_ than our linear model.\n",
        "\n",
        "\n"
      ]
    },
    {
      "cell_type": "markdown",
      "metadata": {
        "id": "DQjI8plv2VZl"
      },
      "source": [
        "#### **Task: Build a K nearest neighbors model.**"
      ]
    },
    {
      "cell_type": "markdown",
      "metadata": {
        "id": "YWy-6HJU2V-G"
      },
      "source": [
        "Let's try a new nonlinear modeling approach with `KNeighborsRegressor`. Nearest neighbors can be used for both classification and regression. The basic idea is to keep your training set as a lookup table, and making new predictions by checking the $k$-nearest training points to compute a prediction. Here the choice of how many neighbors to use ($k$) is a _hyperparameter_ of our model. We use \"hyper\" because such model options are one level up from the standard model parameters we find from training data using `.fit()`.\n",
        "\n",
        "Fit a `KNeighborsRegressor` model and report evaluation results on the training and development sets using `compute_eval()`. Adjust model hyperparameter `n_neighbors` ($k$) to find the best dev set performance you can. \n",
        "\n",
        "**Extension**: If you're already familiar with the basics of using a nearest neighbors model, try exploring more hyperparameters to improve performance. Refer to [scikit documentation](https://scikit-learn.org/stable/modules/generated/sklearn.neighbors.KNeighborsRegressor.html) to see options like the distance metric, and use course readings to get a deeper mathematical understanding of how these hyperparameters affect the model. "
      ]
    },
    {
      "cell_type": "code",
      "metadata": {
        "id": "kiqsR4sl3Ij-",
        "colab": {
          "base_uri": "https://localhost:8080/"
        },
        "outputId": "ea7fc0eb-3f70-40f6-8ede-585aa8a53cd1"
      },
      "source": [
        "## initialize empty model\n",
        "regr_kn = KNeighborsRegressor()\n",
        "# you may initialize a new model to change settings\n",
        "\n",
        "#############################\n",
        "#### YOUR CODE GOES HERE ####\n",
        "regr_kn.fit(X_train, y_train)\n",
        "\n",
        "y_train_predict = regr_kn.predict(X_train)\n",
        "y_dev_predict = regr_kn.predict(X_dev)\n",
        "\n",
        "mse_train, mae_train, mpe_train =  compute_eval(y_train, y_train_predict)\n",
        "print(\"training set evaluation:\")\n",
        "print(f'mse: {mse_train:.2f} mae: {mae_train:.2f} mpe: {mpe_train:.2f}')\n",
        "\n",
        "mse_test, mae_test, mpe_test =  compute_eval(y_dev, y_dev_predict)\n",
        "print(\"test set evaluation:\")\n",
        "print(f'mse: {mse_test:.2f} mae: {mae_test:.2f} mpe: {mpe_test:.2f}')\n",
        "############################# "
      ],
      "execution_count": 37,
      "outputs": [
        {
          "output_type": "stream",
          "name": "stdout",
          "text": [
            "training set evaluation:\n",
            "mse: 0.05 mae: 0.13 mpe: -0.08\n",
            "test set evaluation:\n",
            "mse: 0.35 mae: 0.40 mpe: 12.98\n"
          ]
        }
      ]
    },
    {
      "cell_type": "code",
      "source": [
        "n_neighbors_set = [2, 5, 7, 10, 12, 15, 20, 30, 40]"
      ],
      "metadata": {
        "id": "x5CRdXuWnQ1w"
      },
      "execution_count": 43,
      "outputs": []
    },
    {
      "cell_type": "code",
      "source": [
        "for i, n_neighbors in enumerate(n_neighbors_set):\n",
        "    temp_model = KNeighborsRegressor(n_neighbors=n_neighbors)\n",
        "    temp_model.fit(X_train, y_train)\n",
        "    y_train_predict = temp_model.predict(X_train)\n",
        "    y_dev_predict = temp_model.predict(X_dev)\n",
        "  \n",
        "    mse_train, mae_train, mpe_train =  compute_eval(y_train, y_train_predict)\n",
        "    mse_test, mae_test, mpe_test =  compute_eval(y_dev, y_dev_predict)\n",
        "\n",
        "\n",
        "    print(f\"train set evaluation. n_neighbors={n_neighbors}\")\n",
        "    print(f'mse: {mse_train:.2f} mae: {mae_train:.2f} mpe: {mpe_train:.2f}')\n",
        "\n",
        "    print(f\"test set evaluation. n_neighbors={n_neighbors}\")\n",
        "    print(f'mse: {mse_test:.2f} mae: {mae_test:.2f} mpe: {mpe_test:.2f}') "
      ],
      "metadata": {
        "colab": {
          "base_uri": "https://localhost:8080/"
        },
        "id": "Ygf9bRrBm-Mt",
        "outputId": "7ee389c3-a552-42a2-e137-6d5a2c9c2b75"
      },
      "execution_count": 48,
      "outputs": [
        {
          "output_type": "stream",
          "name": "stdout",
          "text": [
            "train set evaluation. n_neighbors=2\n",
            "mse: 0.01 mae: 0.06 mpe: -0.05\n",
            "test set evaluation. n_neighbors=2\n",
            "mse: 0.32 mae: 0.39 mpe: 11.14\n",
            "train set evaluation. n_neighbors=5\n",
            "mse: 0.05 mae: 0.13 mpe: -0.08\n",
            "test set evaluation. n_neighbors=5\n",
            "mse: 0.35 mae: 0.40 mpe: 12.98\n",
            "train set evaluation. n_neighbors=7\n",
            "mse: 0.08 mae: 0.17 mpe: -0.15\n",
            "test set evaluation. n_neighbors=7\n",
            "mse: 0.38 mae: 0.41 mpe: 12.90\n",
            "train set evaluation. n_neighbors=10\n",
            "mse: 0.12 mae: 0.21 mpe: -0.23\n",
            "test set evaluation. n_neighbors=10\n",
            "mse: 0.42 mae: 0.44 mpe: 10.87\n",
            "train set evaluation. n_neighbors=12\n",
            "mse: 0.13 mae: 0.23 mpe: -0.14\n",
            "test set evaluation. n_neighbors=12\n",
            "mse: 0.40 mae: 0.43 mpe: 11.02\n",
            "train set evaluation. n_neighbors=15\n",
            "mse: 0.15 mae: 0.25 mpe: -0.15\n",
            "test set evaluation. n_neighbors=15\n",
            "mse: 0.38 mae: 0.42 mpe: 11.06\n",
            "train set evaluation. n_neighbors=20\n",
            "mse: 0.18 mae: 0.27 mpe: -0.14\n",
            "test set evaluation. n_neighbors=20\n",
            "mse: 0.35 mae: 0.41 mpe: 10.05\n",
            "train set evaluation. n_neighbors=30\n",
            "mse: 0.22 mae: 0.31 mpe: -0.22\n",
            "test set evaluation. n_neighbors=30\n",
            "mse: 0.33 mae: 0.41 mpe: 9.12\n",
            "train set evaluation. n_neighbors=40\n",
            "mse: 0.25 mae: 0.33 mpe: -0.96\n",
            "test set evaluation. n_neighbors=40\n",
            "mse: 0.33 mae: 0.41 mpe: 8.44\n"
          ]
        }
      ]
    },
    {
      "cell_type": "markdown",
      "metadata": {
        "id": "NqRwcgeC96jf"
      },
      "source": [
        "To find good settings for your nearest neighbors model, you likely ran multiple iterations of fitting the model and evaluating results. Now, let's _search_ the space of possible models in a more principled way. We often frame the problem of ML model development as searching for the best model out of infinitely many possibilities. \n",
        "\n",
        "It's okay if your nearest neighbors model is worse than the linear baseline -- this can happen when the assumptions of a particular model are not a good match for a dataset or task. Below we will introduce some additional nonlinear models you can try. "
      ]
    },
    {
      "cell_type": "markdown",
      "metadata": {
        "id": "RtJZy6s0-yZX"
      },
      "source": [
        "#### **Task: Model selection helper function**"
      ]
    },
    {
      "cell_type": "markdown",
      "metadata": {
        "id": "q_0C6Uyw-8Ax"
      },
      "source": [
        "Using the function signature provided, implement a function which takes a list of models along with training and test data. Fit each model and then evaluate them on both training and dev sets. Your function should return a list of training and dev metric tuples corresponding to the model list input. This helper function allows us to quickly evaluate a set of candidate models as we search for the best model."
      ]
    },
    {
      "cell_type": "code",
      "source": [
        "model_list = [regr_lin, regr_lin]"
      ],
      "metadata": {
        "id": "y8OF2yiW6gV3"
      },
      "execution_count": 53,
      "outputs": []
    },
    {
      "cell_type": "code",
      "source": [
        "models = [model.fit(X_train, y_train) for model in model_list]"
      ],
      "metadata": {
        "id": "C5rwcQ9W6pr4"
      },
      "execution_count": 54,
      "outputs": []
    },
    {
      "cell_type": "code",
      "source": [
        "train_predictions = [model.predict(X_train) for model in models]"
      ],
      "metadata": {
        "id": "JQpBPcLh6rT-"
      },
      "execution_count": 55,
      "outputs": []
    },
    {
      "cell_type": "code",
      "source": [
        "train_metrics_list = [compute_eval(y_train, pred) for pred in train_predictions]"
      ],
      "metadata": {
        "id": "fDTgdvl07BWv"
      },
      "execution_count": 61,
      "outputs": []
    },
    {
      "cell_type": "code",
      "source": [
        "np.argmax([metrics[0] for metrics in train_metrics_list])"
      ],
      "metadata": {
        "colab": {
          "base_uri": "https://localhost:8080/"
        },
        "id": "9NHqgnZl7FXC",
        "outputId": "b4b6de11-4183-4172-8751-dd044640b203"
      },
      "execution_count": 64,
      "outputs": [
        {
          "output_type": "execute_result",
          "data": {
            "text/plain": [
              "0"
            ]
          },
          "metadata": {},
          "execution_count": 64
        }
      ]
    },
    {
      "cell_type": "code",
      "metadata": {
        "id": "frOWBdb3_r54"
      },
      "source": [
        "def search_models_helper(model_list: list, X_tr: np.ndarray, y_tr: np.ndarray, \n",
        "                        X_dev: np.ndarray, y_dev: np.ndarray) -> Tuple[list, list, int]:\n",
        "  \"\"\"Evaluate each model in model_list\n",
        "  Args:\n",
        "    model_list: 1-D array of scikit models to train with .fit()\n",
        "    X_tr: 2-D array of training set inputs\n",
        "    y_tr: 1-D array of training set labels\n",
        "    X_dev: 2-D array of dev set inputs\n",
        "    y_dev: 1-D array of dev set labels\n",
        "\n",
        "  Returns: Tuple() of:\n",
        "    dev_metrics_list: List of tuples for dev set metrics. Same order as model_list\n",
        "    train_metrics_list: List of tuples for training set metrics. Same order as model_list\n",
        "    best_mse_index: int model_list index of lowest dev set MSE model\n",
        "  \"\"\"\n",
        "  #############################\n",
        "  #### YOUR CODE GOES HERE ####\n",
        "  models = [model.fit(X_tr, y_tr) for model in model_list]\n",
        "  train_predictions = [model.predict(X_tr) for model in models]\n",
        "  test_predictions = [model.predict(X_dev) for model in models]\n",
        "\n",
        "  train_metrics_list = [compute_eval(y_tr, pred) for pred in train_predictions]\n",
        "  dev_metrics_list = [compute_eval(y_dev, pred) for pred in test_predictions]\n",
        "\n",
        "  mse_dev = [metrics[0] for metrics in dev_metrics_list]\n",
        "  best_mse_index = np.argmin(mse_dev)\n",
        "\n",
        "  return dev_metrics_list, train_metrics_list, best_mse_index, models\n",
        "  ############################# "
      ],
      "execution_count": 74,
      "outputs": []
    },
    {
      "cell_type": "markdown",
      "source": [
        "#### **Extension: Try advanced nonlinear algorithms**"
      ],
      "metadata": {
        "id": "2xS7fB7v1am7"
      }
    },
    {
      "cell_type": "markdown",
      "source": [
        "Nearest neighbors is an intuitive ML algorithm since predictions are based on values from the training set near a query point. You are welcome to experiment with other nonlinear regression modeling approaches to improve performance. \n",
        "\n",
        "Below are some additional modeling approaches that you can try, but you might need to understand more about how the models work to achieve good results. "
      ],
      "metadata": {
        "id": "hUnkWiHl1o1o"
      }
    },
    {
      "cell_type": "code",
      "source": [
        "# Random forest\n",
        "# Try adjusting n_estimators and max_leaf_nodes\n",
        "from sklearn.ensemble import RandomForestRegressor\n",
        "RandomForestRegressor(n_estimators=20, max_leaf_nodes=2)\n",
        "\n",
        "# Gradient boosting regressor\n",
        "# Try adjusting n_estimators and max_leaf_nodes\n",
        "from sklearn.ensemble import GradientBoostingRegressor\n",
        "\n",
        "# Multi-layer perceptron (Simple neural network)\n",
        "# Try adjusting hidden_layer_sizes\n",
        "from sklearn.neural_network import MLPRegressor\n",
        "\n",
        "#############################\n",
        "#### **OPTIONAL** YOUR CODE GOES HERE ####\n",
        "\n",
        "#############################"
      ],
      "metadata": {
        "id": "riQOChK11ZPu"
      },
      "execution_count": 68,
      "outputs": []
    },
    {
      "cell_type": "markdown",
      "metadata": {
        "id": "2bx6UdyhBRPC"
      },
      "source": [
        "#### **Task: Search over hyperparameters to improve performance**"
      ]
    },
    {
      "cell_type": "markdown",
      "metadata": {
        "id": "c0RmsbgfCepJ"
      },
      "source": [
        "Now let's use the search helper function to try several nonlinear models in a more efficient way. Create a list of nonlinear models and use your `search_models_helper()` function to find the model which produces the lowest dev set MSE. You can explore different hyperparameter settings of the same model (e.g. `n_neighbors`), or different types of nonlinear models. \n",
        "\n",
        "**Extension** For more depth, try defining your list of potential models using a principled hyperparameter search technique. For example, randomly sample from a distribution of possible parameters, _grid search_ over different combinations of hyperparameter settings, or use a hyperparameter optimization algorithm like [hyperopt](http://hyperopt.github.io/hyperopt/).\n",
        "\n"
      ]
    },
    {
      "cell_type": "code",
      "metadata": {
        "id": "XgAbRbsZCfkt",
        "colab": {
          "base_uri": "https://localhost:8080/"
        },
        "outputId": "1e312e44-bcfe-413c-abd1-63d9cab1af07"
      },
      "source": [
        "#############################\n",
        "#### YOUR CODE GOES HERE ####\n",
        "# Create model list by trying different n_neighbors settings\n",
        "model_list = [\n",
        "    linear_model.LinearRegression(),\n",
        "    KNeighborsRegressor(),\n",
        "    RandomForestRegressor(n_estimators=20, max_leaf_nodes=2),\n",
        "    GradientBoostingRegressor(),\n",
        "    MLPRegressor(),\n",
        "]\n",
        "\n",
        "search_models_helper(model_list, X_train, y_train, X_dev, y_dev)\n",
        "############################# "
      ],
      "execution_count": 75,
      "outputs": [
        {
          "output_type": "stream",
          "name": "stderr",
          "text": [
            "/usr/local/lib/python3.7/dist-packages/sklearn/neural_network/_multilayer_perceptron.py:696: ConvergenceWarning: Stochastic Optimizer: Maximum iterations (200) reached and the optimization hasn't converged yet.\n",
            "  ConvergenceWarning,\n"
          ]
        },
        {
          "output_type": "execute_result",
          "data": {
            "text/plain": [
              "([(0.2680541617785219, 0.37430082227198613, 0.5826073029294889),\n",
              "  (0.3451877859406451, 0.398579420281162, 12.983118890386834),\n",
              "  (0.5410881559492321, 0.5669022077248002, 11.292376011836591),\n",
              "  (0.18445713734972777, 0.2822598537333629, 5.117935707774288),\n",
              "  (0.1744017848661568, 0.2888789102787354, 12.113005565711852)],\n",
              " [(0.2453863975331144, 0.36044777312327503, -0.3884011327966376),\n",
              "  (0.05428185848223216, 0.1340124440885735, -0.07815730193845505),\n",
              "  (0.48164066846269815, 0.5069003715702229, 1.07588875144979),\n",
              "  (0.03097972144179151, 0.13697925597737493, 0.012142693615158535),\n",
              "  (0.05277932424438464, 0.16423826675063918, -0.2118377269257303)],\n",
              " 4,\n",
              " [LinearRegression(),\n",
              "  KNeighborsRegressor(),\n",
              "  RandomForestRegressor(max_leaf_nodes=2, n_estimators=20),\n",
              "  GradientBoostingRegressor(),\n",
              "  MLPRegressor()])"
            ]
          },
          "metadata": {},
          "execution_count": 75
        }
      ]
    },
    {
      "cell_type": "markdown",
      "source": [
        "**Question**:\n",
        "\n",
        "Report the lowest dev MSE you found and describe the model settings which produced it.\n",
        "\n",
        "Describe how you chose the list of models to try. "
      ],
      "metadata": {
        "id": "yWhZuXQh8LLO"
      }
    },
    {
      "cell_type": "markdown",
      "source": [
        "MLPRegressor() gave a lowet mse on dev set\n"
      ],
      "metadata": {
        "id": "dD9xgOBo8ef2"
      }
    },
    {
      "cell_type": "markdown",
      "metadata": {
        "id": "8v2IPM0OMuA9"
      },
      "source": [
        "Next, create a plot to show the comparative MSE performance for the models you tried. Choose your best model, ensure you fit it to the training set, and store it in `regr_nl_best`. \n",
        "\n",
        "We will revisit our current ML development hypothesis and diagnostic questions using the model you built."
      ]
    },
    {
      "cell_type": "code",
      "source": [],
      "metadata": {
        "colab": {
          "base_uri": "https://localhost:8080/"
        },
        "id": "Ob1A7vSc_zXx",
        "outputId": "f5db5984-c77a-469e-afcd-67039b33b363"
      },
      "execution_count": 92,
      "outputs": [
        {
          "output_type": "execute_result",
          "data": {
            "text/plain": [
              "['LinearRegression()',\n",
              " 'KNeighborsRegressor()',\n",
              " 'RandomForestRegressor(max_leaf_nodes=2, n_estimators=20)',\n",
              " 'GradientBoostingRegressor()',\n",
              " 'MLPRegressor()']"
            ]
          },
          "metadata": {},
          "execution_count": 92
        }
      ]
    },
    {
      "cell_type": "code",
      "source": [
        "#############################\n",
        "#### YOUR CODE GOES HERE ####\n",
        "dev_metrics_list, train_metrics_list, best_mse_index, models = search_models_helper(model_list, X_train, y_train, X_dev, y_dev)\n",
        "\n",
        "fig = plt.figure()\n",
        "mse_dev = [metrics[0] for metrics in dev_metrics_list]\n",
        "plt.barh([str(m) for m in models], mse_dev)\n",
        "\n",
        "regr_nl_best = models[best_mse_index]\n",
        "\n",
        "#############################"
      ],
      "metadata": {
        "id": "FknfxBh6d-FI",
        "colab": {
          "base_uri": "https://localhost:8080/",
          "height": 376
        },
        "outputId": "b5abd83d-c574-4994-f6b7-21492cea3abc"
      },
      "execution_count": 94,
      "outputs": [
        {
          "output_type": "stream",
          "name": "stderr",
          "text": [
            "/usr/local/lib/python3.7/dist-packages/sklearn/neural_network/_multilayer_perceptron.py:696: ConvergenceWarning: Stochastic Optimizer: Maximum iterations (200) reached and the optimization hasn't converged yet.\n",
            "  ConvergenceWarning,\n"
          ]
        },
        {
          "output_type": "display_data",
          "data": {
            "text/plain": [
              "<Figure size 720x360 with 1 Axes>"
            ],
            "image/png": "[encoded data removed]"
          },
          "metadata": {}
        }
      ]
    },
    {
      "cell_type": "markdown",
      "metadata": {
        "id": "FKdU1QF6NxqG"
      },
      "source": [
        "## Diagnose next steps after nonlinear modeling improvements"
      ]
    },
    {
      "cell_type": "markdown",
      "metadata": {
        "id": "vAVMY_CmOu-2"
      },
      "source": [
        "After iterating on nonlinear modeling improvements, let's compare results of the best nonlinear model you found with our initial linear model from earlier."
      ]
    },
    {
      "cell_type": "code",
      "metadata": {
        "id": "Pu53zXEXOjji",
        "colab": {
          "base_uri": "https://localhost:8080/"
        },
        "outputId": "37bcd5c8-8b84-4f28-b2fc-0eee4a6c9d69"
      },
      "source": [
        "print(\"Linear model:: \")\n",
        "print(\"Training set error: MSE: %.2f  MAE: %.2f  MPE: %.2f \" \n",
        "      % compute_eval(y_train, regr_lin.predict(X_train)))\n",
        "\n",
        "print(\"Dev set error: MSE: %.2f  MAE: %.2f  MPE: %.2f \" \n",
        "      % compute_eval(y_dev, regr_lin.predict(X_dev)))\n",
        "\n",
        "print(\"Best nonlinear model:: \")\n",
        "print(\"Training set error: MSE: %.2f  MAE: %.2f  MPE: %.2f \" \n",
        "      % compute_eval(y_train, regr_nl_best.predict(X_train)))\n",
        "\n",
        "print(\"Dev set error: MSE: %.2f  MAE: %.2f  MPE: %.2f \" \n",
        "      % compute_eval(y_dev, regr_nl_best.predict(X_dev)))\n"
      ],
      "execution_count": 95,
      "outputs": [
        {
          "output_type": "stream",
          "name": "stdout",
          "text": [
            "Linear model:: \n",
            "Training set error: MSE: 0.25  MAE: 0.36  MPE: -0.39 \n",
            "Dev set error: MSE: 0.27  MAE: 0.37  MPE: 0.58 \n",
            "Best nonlinear model:: \n",
            "Training set error: MSE: 0.05  MAE: 0.16  MPE: -0.16 \n",
            "Dev set error: MSE: 0.16  MAE: 0.27  MPE: 11.50 \n"
          ]
        }
      ]
    },
    {
      "cell_type": "markdown",
      "metadata": {
        "id": "oKAZKDMRlbOK"
      },
      "source": [
        "Recall our hypothesis _a more expressive model will better fit the training set, and this improved performance will generalize to the dev set._ Were you able to find a nonlinear model which outperforms our linear baseline?\n",
        "\n",
        "Some additional plotting and diagnostics can help us compare performance between models. \n",
        "First we can check the _predicted_ vs _actual_ values for $y$ for both models. \n",
        "\n",
        "This scatter plot shows us where model predictions disagree with ground truth, perfect predictions are along the diagonal line $y=x$. This plot helps us check for patterns of errors. We also plot the two models' predictions against each other to look for agreement."
      ]
    },
    {
      "cell_type": "code",
      "source": [
        "plt.plot(y_dev, regr_lin.predict(X_dev), 'bo', alpha=0.2, label='linear')\n",
        "plt.plot(y_dev, regr_nl_best.predict(X_dev), 'ro', alpha=0.2, label='nonlinear')\n",
        "plt.plot(y_dev, y_dev, 'k-', label='correct')\n",
        "plt.ylim(np.min(y_dev), np.max(y_dev))\n",
        "plt.xlabel(\"Actual \")\n",
        "plt.ylabel(\"Predicted\")\n",
        "plt.title('Original feature MSE')\n",
        "plt.legend()\n",
        "plt.show()"
      ],
      "metadata": {
        "id": "SrT0CWhZR83s",
        "colab": {
          "base_uri": "https://localhost:8080/",
          "height": 354
        },
        "outputId": "6b1155b4-be57-47fb-82f2-191a67e46887"
      },
      "execution_count": 96,
      "outputs": [
        {
          "output_type": "display_data",
          "data": {
            "text/plain": [
              "<Figure size 720x360 with 1 Axes>"
            ],
            "image/png": "[encoded data removed]"
          },
          "metadata": {}
        }
      ]
    },
    {
      "cell_type": "markdown",
      "source": [
        "To more directly understand where predictions differ, we can construct a similar plot using the linear model's predictions as $x$ axis, and your nonlinear model's predictions as $y$ axis. This plot helps us investigate the question, _\"How do predictions from the nonlinear model deviate from linear model predictions?_\" \n",
        "\n",
        "* Note this does not say whether either model is more correct, just where the predictions differ. \n",
        "* The line $y=x$ in this plot is where both models predict the same value for a dev set example.\n",
        "* Points above the line $y=x$ indicate the nonlinear model predicting a larger value compared with the linear model. \n",
        "* This diagnostic can help us check for unusual bias or outliers in a more complex model. This helps guide decisions about which model to use in a production system.\n"
      ],
      "metadata": {
        "id": "uC628oO5bGUE"
      }
    },
    {
      "cell_type": "code",
      "source": [
        "plt.plot(regr_lin.predict(X_dev), regr_nl_best.predict(X_dev), 'bo', alpha=0.2)\n",
        "\n",
        "plt.plot(regr_lin.predict(X_dev), regr_lin.predict(X_dev), 'k-', label='$y=x$')\n",
        "plt.ylim(np.min(y_dev), np.max(y_dev))\n",
        "plt.xlabel(\"Linear\")\n",
        "plt.ylabel(\"Nonlinear\")\n",
        "plt.title('Comparing predicted values $y$')\n",
        "plt.legend()\n",
        "plt.show()"
      ],
      "metadata": {
        "id": "uJv3tNfsbvFC",
        "colab": {
          "base_uri": "https://localhost:8080/",
          "height": 356
        },
        "outputId": "7a856253-645d-4699-ccbb-28295230060f"
      },
      "execution_count": 97,
      "outputs": [
        {
          "output_type": "display_data",
          "data": {
            "text/plain": [
              "<Figure size 720x360 with 1 Axes>"
            ],
            "image/png": "[encoded data removed]"
          },
          "metadata": {}
        }
      ]
    },
    {
      "cell_type": "markdown",
      "metadata": {
        "id": "wy2O4Kpgv1Nx"
      },
      "source": [
        "**Question**:\n",
        "\n",
        "Using error metrics for both models along with the plots we've just created, which model would you prefer when predicting future revenue of accounts? \n",
        "\n",
        "Think about what types of decisions this model will help make, and how model errors might impact the eventual marketing/sales team actions influenced by this model. Some considerations:\n",
        "\n",
        "* We prefer being more accurate for larger accounts, as this is more valuable for the company overall\n",
        "* Does either model exhibit a pattern of errors with consistent bias of over/under-estimating?\n",
        "* How do models perform on outlier values where the true value is at the extreme large/small ranges for $y$?\n"
      ]
    },
    {
      "cell_type": "markdown",
      "source": [
        "linear model underestimate higher values so its more conservative\n",
        "nonlinear model did worst on outlier but it was better on extreme/high values\n",
        "\n"
      ],
      "metadata": {
        "id": "rPh_RffxnbDR"
      }
    },
    {
      "cell_type": "markdown",
      "metadata": {
        "id": "38UWjzsxkWBF"
      },
      "source": [
        "## Improving a linear model with derived features"
      ]
    },
    {
      "cell_type": "markdown",
      "metadata": {
        "id": "9K8QVYLkt4nn"
      },
      "source": [
        "We hypothesized our linear model is high bias, low variance and under-fitting the training data. We tried different prediction algorithms (nearest neighbors, decision trees, etc.) to build nonlinear models with lower bias. We might also improve a high bias model by introducing _new input features_. \n",
        "\n",
        "We create a new input feature vector $\\tilde{x} = [x, x_{new}]$ which includes our original features $x$ as well as new features $x_{new}$. Adding new input features often happens as we add new information to improve predictions when _under-fitting_.\n",
        "\n",
        "Rather than expanding $x$ with new information about the task, for now we will make our linear model more expressive by expanding $x$ with _derived features_.\n",
        "Our new input features will be nonlinear transformations of the existing $x$. Scikit provides a simple _transform_ mechanism which produces new input features $\\tilde{x}$ for all examples."
      ]
    },
    {
      "cell_type": "code",
      "metadata": {
        "id": "NV7A9Qglh2CN"
      },
      "source": [
        "# perform a polynomial features transform of the dataset\n",
        "trans = PolynomialFeatures(degree=3)\n",
        "X_train_trans = trans.fit_transform(X_train)\n",
        "X_dev_trans = trans.fit_transform(X_dev)"
      ],
      "execution_count": 101,
      "outputs": []
    },
    {
      "cell_type": "markdown",
      "metadata": {
        "id": "OjDlvnNcCD-A"
      },
      "source": [
        "A degree 2 polynomial transform means if we had original input features $x=[a, b]$, the derived input features are $\\tilde{x} = [1, a, b, a^2, ab, b^2]$. We can extend this to any polynomial order >= 2, but this can quickly grow the number of features too large for easy use. \n",
        "\n",
        "\n",
        "Recall a linear model takes the form $y = \\theta_1 x_1 + \\theta_2 x_2 ...$ so applying a linear model to our derived features allows us to model some nonlinear variation in our original input data because we now have a _linear_ model applied to _nonlinear_ derived features of the data."
      ]
    },
    {
      "cell_type": "markdown",
      "metadata": {
        "id": "VgVpvOiIbJ8X"
      },
      "source": [
        "#### **Task: Evaluate and compare a linear model with derived features**"
      ]
    },
    {
      "cell_type": "markdown",
      "metadata": {
        "id": "Tvg62uydhIn6"
      },
      "source": [
        "Fit and evaluate a linear regression model on the transformed training and test sets just created."
      ]
    },
    {
      "cell_type": "code",
      "metadata": {
        "id": "huxTG2TULa4B",
        "colab": {
          "base_uri": "https://localhost:8080/"
        },
        "outputId": "af4ea69c-a58e-4315-8013-04d5efbe57fd"
      },
      "source": [
        "# fit an evaluate a linear model on the transformed features\n",
        "regr_poly_lin = linear_model.LinearRegression()\n",
        "\n",
        "#############################\n",
        "#### YOUR CODE GOES HERE ####\n",
        "regr_poly_lin.fit(X_train_trans, y_train)\n",
        "\n",
        "y_train_predict = regr_poly_lin.predict(X_train_trans)\n",
        "y_dev_predict = regr_poly_lin.predict(X_dev_trans)\n",
        "\n",
        "mse_train, mae_train, mpe_train =  compute_eval(y_train, y_train_predict)\n",
        "print(\"training set evaluation:\")\n",
        "print(f'mse: {mse_train:.2f} mae: {mae_train:.2f} mpe: {mpe_train:.2f}')\n",
        "\n",
        "mse_test, mae_test, mpe_test =  compute_eval(y_dev, y_dev_predict)\n",
        "print(\"test set evaluation:\")\n",
        "print(f'mse: {mse_test:.2f} mae: {mae_test:.2f} mpe: {mpe_test:.2f}')\n",
        "############################# "
      ],
      "execution_count": 102,
      "outputs": [
        {
          "output_type": "stream",
          "name": "stdout",
          "text": [
            "training set evaluation:\n",
            "mse: 0.02 mae: 0.09 mpe: -0.08\n",
            "test set evaluation:\n",
            "mse: 2.24 mae: 0.71 mpe: 5.60\n"
          ]
        }
      ]
    },
    {
      "cell_type": "markdown",
      "metadata": {
        "id": "UUxv_E-ZkIYp"
      },
      "source": [
        "The expanded features model has _lower bias_ and _higher variance_ compared to the model with original features. We conclude this because the new model has more free parameters ($\\theta$), and can model some nonlinear relations in the data via the derived features. \n",
        "\n",
        "Some observations on linear model performance on the expanded feature set:\n",
        "* Training set error: Expanded feature model achieves almost 0 error\n",
        "* Dev set error: Original features model achieves lower dev error than derived feature model\n",
        "* With 0 training error, we should check for _overfitting_ in our derived feature model. Overfitting happens when fitting variations in the training set harms dev set performance by the model finding coincidences in the training set. "
      ]
    },
    {
      "cell_type": "markdown",
      "metadata": {
        "id": "gdl-YWsmp3DG"
      },
      "source": [
        "## Regularization"
      ]
    },
    {
      "cell_type": "markdown",
      "metadata": {
        "id": "-ry1P25MTef_"
      },
      "source": [
        "The linear model using derived features is fitting the training set perfectly and could be over-fitting. _Regularization_ introduces a penalty for model complexity when fitting/training the model. By introducing such a penalty, regularization provides a way to trade off model complexity (variance) with how well a model generalizes to perform well on dev set examples. \n",
        "\n",
        "In general, regularization is typically a term we add to the loss function so that our final model will be influenced by the regularization penalty and our original objective/loss function. We now think of our overall loss function $\\mathcal{L}_{\\mathcal{D}}^{tot}$ as the sum of our original loss function and a new loss term $\\mathcal{L}_{\\mathcal{D}}^{reg}$,\n",
        "\n",
        "$\\mathcal{L}_{\\mathcal{D}}^{tot} (f_\\theta(x)) = \n",
        "\\mathcal{L}_{\\mathcal{D}}^{fit} (f_\\theta(x))\n",
        "+ \\alpha \\mathcal{L}_{\\mathcal{D}}^{reg} (\\theta)$.\n",
        "\n",
        "The parameter $\\alpha$ allows us to adjust the trade-off between the two terms. Directly controlling this tradeoff allows us to penalize the complexity of an over-fitting model and hopefully improve dev set performance by preventing the model from fitting unhelpful relationships in the training set.\n",
        "\n",
        "An often used, simple regularization approach is sum of squared values of the model parameters $\\theta$,\n",
        "\n",
        "$\\mathcal{L}_{\\mathcal{D}}^{reg} (\\theta) = \\alpha \\sum_j \\theta_j^2$\n",
        "\n",
        "This sum of squares regularization is also called $L_2$ since it corresponds to the $L_2$ norm of the vector $\\theta$.\n",
        "\n",
        "Finally, let's see our full linear regression loss with $L_2$ regularization,\n",
        "\n",
        "$\\mathcal{L}_{\\mathcal{D}} (f_\\theta(x)) = \\sum_{i \\in \\mathcal{D}} (\\hat{y}^{(i)} - y^{(i)})^2 +\n",
        "\\alpha \\sum_j \\theta_j^2$\n",
        "\n",
        "This regression and regularization combination is well-studied and widely used. In fact, it has a special name, ridge regression.\n"
      ]
    },
    {
      "cell_type": "markdown",
      "metadata": {
        "id": "Hdz5YaAQc8Ye"
      },
      "source": [
        "### **Task: Linear regression with regularization**"
      ]
    },
    {
      "cell_type": "markdown",
      "metadata": {
        "id": "ZpfbNgW_dC7F"
      },
      "source": [
        "Using the `Ridge` model and your `search_models_helper()` function, try several settings for the regularization parameter $\\alpha$. Report training and dev set metrics for the best model you find for *both* the expanded features and original datasets. \n",
        "\n",
        "Fit and store the best model for each feature set.\n",
        "\n",
        "Hint: use your `search_models_helper()` function to find a good setting for $\\alpha$. Report the training and dev set metrics for y."
      ]
    },
    {
      "cell_type": "code",
      "metadata": {
        "id": "DI97V4iEhYNW"
      },
      "source": [
        "# try at least these values but you can add more\n",
        "## store your lowest MSE model for each feature set in the variable names below\n",
        "\n",
        "\n",
        "#############################\n",
        "#### YOUR CODE GOES HERE ####\n",
        "from sklearn.linear_model import Ridge\n",
        "\n",
        "alpha_list = [0, 1, 10, 100, 1000, 10000]\n",
        "model_list = [Ridge(alpha=alpha) for alpha in alpha_list]\n",
        "\n",
        "dev_metrics_list, train_metrics_list, best_mse_index, models = search_models_helper(model_list, X_train, y_train, X_dev, y_dev)\n",
        "dev_metrics_list_poly, train_metrics_list_poly, best_mse_index_poly, models_poly = search_models_helper(model_list, X_train_trans, y_train, X_dev_trans, y_dev)\n",
        "\n",
        "regr_ridge_orig = models[best_mse_index]\n",
        "regr_ridge_poly = models_poly[best_mse_index_poly]\n",
        "############################# "
      ],
      "execution_count": 109,
      "outputs": []
    },
    {
      "cell_type": "markdown",
      "metadata": {
        "id": "w-KX_fGgeCA1"
      },
      "source": [
        "Now create a plot showing MSE values (on the y-axis) as a function of $\\alpha$ for both feature sets."
      ]
    },
    {
      "cell_type": "code",
      "source": [
        "# Tips: - You can use log scale for alphas axis using [axis].set_xscale('log')\n",
        "#       - Ensure 0 is shown in your MSE values axis using [axis].set_ylim(bottom=0)\n",
        "\n",
        "#############################\n",
        "#### YOUR CODE GOES HERE ####\n",
        "\n",
        "fig, (ax1, ax2) = plt.subplots(2, figsize=(5, 5))\n",
        "mse_dev = [metrics[0] for metrics in dev_metrics_list]\n",
        "mse_dev_poly = [metrics[0] for metrics in dev_metrics_list_poly]\n",
        "\n",
        "ax1.scatter(alpha_list, mse_dev)\n",
        "ax2.scatter(alpha_list, mse_dev_poly)\n",
        "\n",
        "ax1.set_title(\"dev set mse, original features\")\n",
        "ax2.set_title(\"dev set mse, polynomial features\")\n",
        "plt.tight_layout()\n",
        "plt.show()\n",
        "#############################\n"
      ],
      "metadata": {
        "id": "UbzttlTLkq3N",
        "colab": {
          "base_uri": "https://localhost:8080/",
          "height": 369
        },
        "outputId": "f933bd2c-fdf2-42e7-c1d8-5f9c6056727b"
      },
      "execution_count": 131,
      "outputs": [
        {
          "output_type": "display_data",
          "data": {
            "text/plain": [
              "<Figure size 360x360 with 2 Axes>"
            ],
            "image/png": "[encoded data removed]"
          },
          "metadata": {}
        }
      ]
    },
    {
      "cell_type": "code",
      "source": [
        "\n",
        "fig, (ax1, ax2) = plt.subplots(2, figsize=(5, 5))\n",
        "mse_dev = [metrics[0] for metrics in train_metrics_list]\n",
        "mse_dev_poly = [metrics[0] for metrics in train_metrics_list_poly]\n",
        "\n",
        "ax1.scatter(alpha_list, mse_dev)\n",
        "ax2.scatter(alpha_list, mse_dev_poly)\n",
        "\n",
        "ax1.set_title(\"train set mse, original features\")\n",
        "ax2.set_title(\"train set mse, polynomial features\")\n",
        "plt.tight_layout()\n",
        "plt.show()"
      ],
      "metadata": {
        "colab": {
          "base_uri": "https://localhost:8080/",
          "height": 369
        },
        "id": "Zhpb6yP9IAit",
        "outputId": "e1ad88f1-07ec-47f5-86a9-fb3bed8a76e3"
      },
      "execution_count": 132,
      "outputs": [
        {
          "output_type": "display_data",
          "data": {
            "text/plain": [
              "<Figure size 360x360 with 2 Axes>"
            ],
            "image/png": "[encoded data removed]"
          },
          "metadata": {}
        }
      ]
    },
    {
      "cell_type": "markdown",
      "source": [
        "**Question**\n",
        "\n",
        "How did performance on training and dev sets change as $\\alpha$ changed? What differences did you observe in the effect of regularization on the original vs expanded feature models? "
      ],
      "metadata": {
        "id": "KzCcH_3kPcnK"
      }
    },
    {
      "cell_type": "markdown",
      "source": [
        "- trains set perfomance is worse with higher alpha values\n",
        "- after regularization the model with extended features behaves better\n"
      ],
      "metadata": {
        "id": "p6NLDpJ2PhO0"
      }
    },
    {
      "cell_type": "markdown",
      "metadata": {
        "id": "IM0pHSbtGHuj"
      },
      "source": [
        "# Conclusion and next steps\n",
        "\n",
        "Congratulations on completing the project! You built nonlinear regression models for per-customer revenue prediction. We can now deliver this model along with predictions to the customer success and sales teams to allow them to try and prioritize customer interactions based on model predictions. \n",
        "\n",
        "In this project, we also introduced several regression techniques, error metrics, hypothesis-driven development, and regularization. We will continue to use these core conepts throughout the course. \n"
      ]
    }
  ]
}